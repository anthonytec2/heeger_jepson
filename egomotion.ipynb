{
 "cells": [
  {
   "cell_type": "code",
   "execution_count": null,
   "metadata": {},
   "outputs": [],
   "source": [
    "import matplotlib.pyplot as plt\n",
    "import jax.numpy as jnp\n",
    "import jax\n",
    "import numpy as np"
   ]
  },
  {
   "cell_type": "markdown",
   "metadata": {},
   "source": [
    "### Creating a Test Optical Flow Pattern"
   ]
  },
  {
   "cell_type": "code",
   "execution_count": null,
   "metadata": {},
   "outputs": [],
   "source": [
    "# Motion of the Camera\n",
    "T_unorm = jnp.array([3, 0.3, 2])\n",
    "T = T_unorm  # / jnp.linalg.norm(T_unorm)\n",
    "Ω = jnp.array([0, 0.9, 0])\n",
    "\n",
    "# Intrinsic Parameters\n",
    "res = (100, 100)\n",
    "f = 1\n",
    "\n",
    "# Depth Value at each pixel\n",
    "min_depth = 5  # Example depth ranges\n",
    "max_depth = 10\n",
    "Z = jax.random.uniform(\n",
    "    jax.random.PRNGKey(0), (res[0] * res[1], 1), minval=min_depth, maxval=max_depth\n",
    ")\n",
    "K = jnp.array([[f, 0, res[0] / 2], [0, f, res[1] / 2], [0, 0, 1]])\n",
    "K_inv = jnp.linalg.inv(K)"
   ]
  },
  {
   "cell_type": "code",
   "execution_count": null,
   "metadata": {},
   "outputs": [],
   "source": [
    "### Calculate A Matrix\n",
    "A_ls = []\n",
    "for y in range(res[0]):\n",
    "    for x in range(res[1]):\n",
    "        norm_cord = K_inv @ jnp.array([x, y, 1])\n",
    "        x_norm = norm_cord[0]\n",
    "        y_norm = norm_cord[1]\n",
    "        A_ls.append(jnp.array([[-f, 0, x_norm], [0, -f, y_norm]]))\n",
    "A = jnp.stack(A_ls)"
   ]
  },
  {
   "cell_type": "code",
   "execution_count": null,
   "metadata": {},
   "outputs": [],
   "source": [
    "### Calculate B Matrix\n",
    "B_ls = []\n",
    "for y in range(res[0]):\n",
    "    for x in range(res[1]):\n",
    "        norm_cord = K_inv @ jnp.array([x, y, 1])\n",
    "        x_norm = norm_cord[0]\n",
    "        y_norm = norm_cord[1]\n",
    "        B_ls.append(\n",
    "            jnp.array(\n",
    "                [\n",
    "                    [(x_norm * y_norm), -(f + (x_norm**2) / f), y_norm],\n",
    "                    [f + (y_norm**2) / f, -(x_norm * y_norm) / f, -x_norm],\n",
    "                ]\n",
    "            )\n",
    "        )\n",
    "B = jnp.stack(B_ls)"
   ]
  },
  {
   "cell_type": "code",
   "execution_count": null,
   "metadata": {},
   "outputs": [],
   "source": [
    "### Calculate the motion field\n",
    "v = (1 / Z) * (A @ T) + B @ Ω\n",
    "flow = v.reshape(res[0], res[1], 2)"
   ]
  },
  {
   "cell_type": "code",
   "execution_count": null,
   "metadata": {},
   "outputs": [],
   "source": [
    "spacing = 4\n",
    "xval = np.arange(0, flow.shape[1], spacing)\n",
    "yval = np.arange(0, flow.shape[0], spacing)\n",
    "xx, yy = np.meshgrid(xval, yval)\n",
    "\n",
    "plt.quiver(\n",
    "    xx,\n",
    "    yy,\n",
    "    flow[::spacing, ::spacing, 0],\n",
    "    flow[::spacing, ::spacing, 1],\n",
    "    scale=1,\n",
    "    scale_units=\"xy\",\n",
    "    angles=\"xy\",\n",
    "    units=\"xy\",\n",
    ")"
   ]
  },
  {
   "cell_type": "code",
   "execution_count": null,
   "metadata": {},
   "outputs": [],
   "source": [
    "v"
   ]
  },
  {
   "cell_type": "code",
   "execution_count": null,
   "metadata": {},
   "outputs": [],
   "source": []
  }
 ],
 "metadata": {
  "kernelspec": {
   "display_name": "jax",
   "language": "python",
   "name": "python3"
  },
  "language_info": {
   "codemirror_mode": {
    "name": "ipython",
    "version": 3
   },
   "file_extension": ".py",
   "mimetype": "text/x-python",
   "name": "python",
   "nbconvert_exporter": "python",
   "pygments_lexer": "ipython3",
   "version": "3.9.19"
  }
 },
 "nbformat": 4,
 "nbformat_minor": 2
}
